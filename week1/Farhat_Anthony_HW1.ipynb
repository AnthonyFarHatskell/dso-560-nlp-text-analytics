{
 "cells": [
  {
   "cell_type": "markdown",
   "metadata": {},
   "source": [
    "# Homework 1 (Due Thursday, October 28th, 2021 at 6:29pm PST)\n",
    "\n",
    "\n",
    "**Rubric**\n",
    "\n",
    "\n",
    "Every day late is -10%.\n",
    "\n",
    "You are a business analyst working for a major US toy retailer:\n",
    "\n",
    "A **Product Marketing Manager** in the marketing department wants to find out the most frequently used words in positive reviews (five stars) and negative reviews (one star) in order to determine what occasion the toys are purchased for (Christmas, birthdays, and anniversaries.). She would like your opinion on **which age groups**(what ages) recipients of toys seem to have the highest reviews, and **which occasion has the most positive reviews.**\n",
    "\n",
    "* There are **malformed characters in the review** text. For instance, notice the `&#34;` - these are examples of incorrectly decoded [HTML encodings](https://krypted.com/utilities/html-encoding-reference/).\n",
    "```\n",
    "\"amazing quality first of all, these cards are amazing proxies (but don't try to use em in &#34;official duels&#34; unless a judge is okay with it, if you have the real thing to show) and look amazing in your binder!\"\n",
    "```\n",
    "Please clean up all instances of these incorrect decodings. \n",
    "\n",
    "Perform the same word count analysis using the reviews received from Amazon to answer your marketing manager's question. They are stored in two files, (`poor_amazon_toy_reviews.txt`) and (`good-amazon-toy-reviews.txt`). **Provide a few sentences with your findings and business recommendations.** Make any assumptions you'd like to- this is a fictitious company after all. I just want you to get into the habit of \"finishing\" your analysis: to avoid delivering technical numbers to a non-technical manager.\n",
    "\n",
    "Some considerations in your analysis:\n",
    "\n",
    "* Use **regular expressions to parse out all references to recipients and gift occassions**, and account for the possibility that people may spell words \"son\" / \"children\" / \"4 year old\" as both singular and plural, upper or lower-cased.\n",
    "\n",
    "* Explain what some of **pitfalls/limitations** are of using only a word count analysis to make these inferences. What additional research/steps would you need to do to verify your conclusions?\n",
    "\n",
    "**Submit everything as a new notebook and Slack direct message to me (Yu Chen) and the TA the HW as an attachment.**\n",
    "\n",
    "**NOTE**: Name the notebook `lastname_firstname_HW1.ipynb`."
   ]
  },
  {
   "cell_type": "code",
   "execution_count": 2,
   "metadata": {
    "ExecuteTime": {
     "end_time": "2021-11-01T00:24:15.652265Z",
     "start_time": "2021-11-01T00:24:14.915841Z"
    }
   },
   "outputs": [],
   "source": [
    "import sys\n",
    "import re\n",
    "import pandas as pd\n",
    "import numpy as np"
   ]
  },
  {
   "cell_type": "code",
   "execution_count": 3,
   "metadata": {
    "ExecuteTime": {
     "end_time": "2021-11-01T00:24:15.684590Z",
     "start_time": "2021-11-01T00:24:15.673117Z"
    }
   },
   "outputs": [
    {
     "name": "stdout",
     "output_type": "stream",
     "text": [
      "<_io.TextIOWrapper name='good_amazon_toy_reviews.txt' mode='r' encoding='UTF-8'>\n"
     ]
    },
    {
     "data": {
      "text/plain": [
       "'Excellent!!!\\n'"
      ]
     },
     "execution_count": 3,
     "metadata": {},
     "output_type": "execute_result"
    }
   ],
   "source": [
    "positive_text = open(\"good_amazon_toy_reviews.txt\")\n",
    "print(positive_text)\n",
    "positive_text.readline()"
   ]
  },
  {
   "cell_type": "code",
   "execution_count": 4,
   "metadata": {
    "ExecuteTime": {
     "end_time": "2021-11-01T00:24:15.779339Z",
     "start_time": "2021-11-01T00:24:15.722891Z"
    }
   },
   "outputs": [
    {
     "name": "stdout",
     "output_type": "stream",
     "text": [
      "This positive reviews file has 102217 lines (reviews)\n"
     ]
    }
   ],
   "source": [
    "#how big is the file? \n",
    "positive_text.seek(0)\n",
    "lines = positive_text.readlines()\n",
    "print(f'This positive reviews file has {len(lines)} lines (reviews)')"
   ]
  },
  {
   "cell_type": "code",
   "execution_count": 5,
   "metadata": {
    "ExecuteTime": {
     "end_time": "2021-11-01T00:24:16.953066Z",
     "start_time": "2021-11-01T00:24:16.069421Z"
    }
   },
   "outputs": [
    {
     "data": {
      "text/plain": [
       "[('the', 96606),\n",
       " ('and', 86557),\n",
       " ('a', 66611),\n",
       " ('to', 63339),\n",
       " ('I', 48358),\n",
       " ('for', 48350),\n",
       " ('', 44934),\n",
       " ('is', 42321),\n",
       " ('it', 41543),\n",
       " ('of', 36593)]"
      ]
     },
     "execution_count": 5,
     "metadata": {},
     "output_type": "execute_result"
    }
   ],
   "source": [
    "#code taken from lecture\n",
    "from collections import Counter\n",
    "\n",
    "def count_words(lines, delimiter=\" \"):\n",
    "    \n",
    "    words = Counter() # instantiate a Counter object called words\n",
    "    for line in lines:\n",
    "        for word in line.split(delimiter):\n",
    "            words[word] += 1 # increment count for word\n",
    "    return words\n",
    "\n",
    "count_words(lines).most_common(10)"
   ]
  },
  {
   "cell_type": "code",
   "execution_count": 6,
   "metadata": {
    "ExecuteTime": {
     "end_time": "2021-11-01T00:24:19.113883Z",
     "start_time": "2021-11-01T00:24:17.223292Z"
    }
   },
   "outputs": [
    {
     "data": {
      "text/plain": [
       "[('the', 96607),\n",
       " ('and', 86557),\n",
       " ('a', 66617),\n",
       " ('to', 63352),\n",
       " ('for', 48408),\n",
       " ('I', 48362),\n",
       " ('', 44963),\n",
       " ('it', 44347),\n",
       " ('is', 42328),\n",
       " ('of', 36598)]"
      ]
     },
     "execution_count": 6,
     "metadata": {},
     "output_type": "execute_result"
    }
   ],
   "source": [
    "#we want to remove occasions of &#34 and all of the rest of these HTML invalid characters\n",
    "pos_df = pd.DataFrame(open(\"good_amazon_toy_reviews.txt\", \"r\"), columns = [\"line\"])\n",
    "pos_df[\"line\"] = pos_df[\"line\"].str.replace(\"\\n\", \"\")\n",
    "pos_df[\"line\"] = pos_df[\"line\"].str.replace(r'&#\\d{1,2}', \"\")\n",
    "count_words(pos_df[\"line\"])\n",
    "count_words(pos_df[\"line\"]).most_common(10)"
   ]
  },
  {
   "cell_type": "markdown",
   "metadata": {},
   "source": [
    "# I) Occasions Parsing"
   ]
  },
  {
   "cell_type": "code",
   "execution_count": 8,
   "metadata": {
    "ExecuteTime": {
     "end_time": "2021-11-01T00:24:34.072804Z",
     "start_time": "2021-11-01T00:24:29.666880Z"
    }
   },
   "outputs": [
    {
     "name": "stdout",
     "output_type": "stream",
     "text": [
      "Out of the 102217 positive reviews, occasions that look similar to\n",
      " (birthdays?|bdays?)    are represented 3968 times\n",
      "Out of the 102217 positive reviews, occasions that look similar to\n",
      " halloweens?    are represented 372 times\n",
      "Out of the 102217 positive reviews, occasions that look similar to\n",
      " (presents?|gifts?)    are represented 6163 times\n",
      "Out of the 102217 positive reviews, occasions that look similar to\n",
      " (christmas?|easters?)    are represented 1217 times\n",
      "Out of the 102217 positive reviews, occasions that look similar to\n",
      " (anniversary|weddings?|graduation|party)    are represented 2502 times\n",
      "\n",
      "Sorting this list by frequency, we get [('(presents?|gifts?)', 6163), ('(birthdays?|bdays?)', 3968), ('(anniversary|weddings?|graduation|party)', 2502), ('(christmas?|easters?)', 1217), ('halloweens?', 372)]\n"
     ]
    }
   ],
   "source": [
    "reg_birthday = r'(birthdays?|bdays?)'\n",
    "reg_halloween = r'halloweens?'\n",
    "reg_presents = r'(presents?|gifts?)'\n",
    "reg_christian_holidays = r'(christmas?|easters?)'\n",
    "reg_life_occasion = r'(anniversary|weddings?|graduation|party)'\n",
    "\n",
    "occasion_parse_list = [reg_birthday, reg_halloween, reg_presents, reg_christian_holidays, reg_life_occasion]\n",
    "\n",
    "occ_dict = {}\n",
    "\n",
    "for i in occasion_parse_list:\n",
    "    print(f'Out of the {len(lines)} positive reviews, occasions that look similar to\\n {i}\\\n",
    "    are represented {pos_df.line.str.findall(i, flags = re.IGNORECASE).apply(len).apply(bool).sum()} times')\n",
    "    occ_dict[i] = pos_df.line.str.findall(i, flags = re.IGNORECASE).apply(len).apply(bool).sum()\n",
    "    \n",
    "# sorting the dictionary in descending order code is taken from stack overflow \n",
    "#https://stackoverflow.com/questions/20577840/python-dictionary-sorting-in-descending-order-based-on-values/41866830\n",
    "final_dictionary = sorted(occ_dict.items(), key = lambda kv: kv[1], reverse = True)\n",
    "\n",
    "print(f'\\nSorting this list by frequency, we get {final_dictionary}')"
   ]
  },
  {
   "cell_type": "markdown",
   "metadata": {},
   "source": [
    "# II) Age Parsing"
   ]
  },
  {
   "cell_type": "code",
   "execution_count": 160,
   "metadata": {
    "ExecuteTime": {
     "end_time": "2021-11-01T00:03:56.324933Z",
     "start_time": "2021-11-01T00:03:52.163023Z"
    }
   },
   "outputs": [
    {
     "data": {
      "text/plain": [
       "[('2', 1378),\n",
       " ('3', 1349),\n",
       " ('5', 1053),\n",
       " ('4', 1032),\n",
       " ('6', 618),\n",
       " ('7', 480),\n",
       " ('8', 425),\n",
       " ('1', 422),\n",
       " ('9', 254),\n",
       " ('10', 253),\n",
       " ('1 month old', 184),\n",
       " ('2 month old', 184),\n",
       " ('3 month old', 164),\n",
       " ('11', 156),\n",
       " ('4 month old', 142),\n",
       " ('5 month old', 126),\n",
       " ('6 month old', 124),\n",
       " ('12', 122),\n",
       " ('7 month old', 82),\n",
       " ('13', 41),\n",
       " ('14', 41),\n",
       " ('9 month old', 38),\n",
       " ('10 month old', 36),\n",
       " ('8 month old', 34),\n",
       " ('11 month old', 24),\n",
       " ('15', 21),\n",
       " ('16', 20),\n",
       " ('30', 14),\n",
       " ('12 month old', 14),\n",
       " ('50 month old', 12),\n",
       " ('17', 11),\n",
       " ('20', 10),\n",
       " ('13 month old', 10),\n",
       " ('21 month old', 10),\n",
       " ('75', 9),\n",
       " ('40', 8),\n",
       " ('19', 7),\n",
       " ('21', 7),\n",
       " ('50', 6),\n",
       " ('30 month old', 6),\n",
       " ('25 month old', 6),\n",
       " ('40 month old', 6),\n",
       " ('22', 5),\n",
       " ('18', 5),\n",
       " ('32', 4),\n",
       " ('60', 4),\n",
       " ('24', 4),\n",
       " ('35', 4),\n",
       " ('25', 4),\n",
       " ('16 month old', 4),\n",
       " ('14 month old', 4),\n",
       " ('20 month old', 4),\n",
       " ('80 month old', 4),\n",
       " ('24 month old', 4),\n",
       " ('17 month old', 4),\n",
       " ('70', 3),\n",
       " ('81', 3),\n",
       " ('23', 3),\n",
       " ('37', 3),\n",
       " ('90', 3),\n",
       " ('89', 3),\n",
       " ('94', 2),\n",
       " ('00', 2),\n",
       " ('91', 2),\n",
       " ('97', 2),\n",
       " ('65', 2),\n",
       " ('36', 2),\n",
       " ('82', 2),\n",
       " ('83', 2),\n",
       " ('28', 2),\n",
       " ('27', 2),\n",
       " ('64', 2),\n",
       " ('84', 2),\n",
       " ('80', 2),\n",
       " ('64 month old', 2),\n",
       " ('63 month old', 2),\n",
       " ('33 month old', 2),\n",
       " ('60 month old', 2),\n",
       " ('27 month old', 2),\n",
       " ('90 month old', 2),\n",
       " ('89 month old', 2),\n",
       " ('15 month old', 2),\n",
       " ('32 month old', 2),\n",
       " ('18 month old', 2),\n",
       " ('41', 1),\n",
       " ('55', 1),\n",
       " ('45', 1),\n",
       " ('74', 1),\n",
       " ('78', 1),\n",
       " ('62', 1),\n",
       " ('86', 1),\n",
       " ('72', 1),\n",
       " ('29', 1),\n",
       " ('66', 1),\n",
       " ('26', 1),\n",
       " ('61', 1),\n",
       " ('42', 1),\n",
       " ('77', 1),\n",
       " ('93', 1),\n",
       " ('54', 1),\n",
       " ('48', 1),\n",
       " ('47', 1),\n",
       " ('52', 1),\n",
       " ('73', 1),\n",
       " ('95', 1),\n",
       " ('43', 1),\n",
       " ('92', 1),\n",
       " ('34', 1),\n",
       " ('31', 1),\n",
       " ('88', 1),\n",
       " ('63', 1),\n",
       " ('33', 1)]"
      ]
     },
     "execution_count": 160,
     "metadata": {},
     "output_type": "execute_result"
    }
   ],
   "source": [
    "reg_age1 = r'(\\d{1,2}) (?:yo|yr)'\n",
    "reg_age3 = r'(\\d{1,2})+-y'\n",
    "reg_age4 = r'(\\d{1,2})+ (?:year) olds?'\n",
    "reg_age5 = r'(\\d{1,2}).. (?:bday|birthday)'\n",
    "reg_age6 = r'(\\d{1,2}) (?:mos)'\n",
    "reg_age7 = r'(\\d{1,2}) months? olds?'\n",
    "\n",
    "age_parse_list = [reg_age1, reg_age3, reg_age4, reg_age5]\n",
    "month_parse_list = [reg_age6, reg_age7]\n",
    "\n",
    "age_list = {}\n",
    "\n",
    "for i in age_parse_list:\n",
    "    x = pos_df.line.str.findall(i, flags = re.IGNORECASE)\n",
    "    x = x.explode().dropna()\n",
    "    # add to counter in dictionary if the age is in there\n",
    "    # if new age, start counter at 1\n",
    "    for j in x:\n",
    "        if j in age_list:\n",
    "            age_list[j] += 1\n",
    "        else:\n",
    "            age_list[j] = 1\n",
    "\n",
    "month_list = {}\n",
    "\n",
    "for k in month_parse_list:\n",
    "    y = pos_df.line.str.findall(i, flags = re.IGNORECASE)\n",
    "    y = y.explode().dropna()\n",
    "    #could divide by 12 for year age and round for better grouping\n",
    "    for z in y:\n",
    "        if z in month_list:\n",
    "            month_list[z] += 1\n",
    "        else:\n",
    "            month_list[z] = 1\n",
    "\n",
    "# stack overflow code for how to add a string to each key in a dictionary\n",
    "#https://stackoverflow.com/questions/48681634/adding-a-string-to-all-keys-in-dictionary-python\n",
    "month_list = {k +' month old': v for k, v in month_list.items()}\n",
    "\n",
    "final_age_dict = {**age_list, **month_list}\n",
    "\n",
    "final_age_dict = sorted(final_age_dict.items(), key = lambda kv: kv[1], reverse = True)\n",
    "final_age_dict"
   ]
  },
  {
   "cell_type": "markdown",
   "metadata": {},
   "source": [
    "## Final Recommendations for Age and Occasion\n",
    "\n",
    "#### **Highest Frequency**\n",
    "- **Occasion:** gifts and birthdays are the occasions with the most positive reviews, mentioned in roughly 10% of them\n",
    "- **Ages:** 2 and 3 year olds account for the most positive reviews (about 1350 mentions each ~1-1.5%), with 5 and 4 year olds (roughly 1000 mentions each ~1%) in a close third and fourth\n",
    " \n",
    "### =>  Our product marketing manager should target birthday gifts for kids aged 2-5\n",
    "\n",
    "#### **Middle Frequency**\n",
    "- **Occasion:** life occasions such as anniversaries, weddings, graduation, and parties show up about 2.5% of the time.\n",
    "- **Ages:** For the 1% to 0.25% age frequency range, 6, 7, 8, 1, 9, 10 year olds (in order by frequency) have the next set of positive reviews\n",
    " \n",
    "### =>  If our highest frequency marketing campaign is successful and our manager needs a new set to target, she should look for 6-10 year olds with one of the above occasions coming up\n",
    "\n",
    "#### **Low Frequency** (note, even if low, still higher than a lot of other groups)\n",
    "- **Occasion:** Holidays such as Christmas, Easter, and Halloween have low frequency but still show up over 1% of the time\n",
    "- **Ages:** 9-12 year AND 1-6 month olds each have over 0.1% frequency\n",
    "\n",
    "### =>  If our manager is successful in the highest and middle frequency categories, she should then target the lower frequency category: older children (aged 9-12) or very young toddlers (1-6 months) during Christian holiday seasons and Halloween\n",
    "\n",
    "## **Pitfalls & Limitations:**\n",
    "- Besides knowing that the reviews were either 1/5 star, we don't assess what the reviews are actually saying\n",
    "- To verify our conclusions about ages, we would need to make sure the numbers we are capturing ALL refer to ages.\n",
    "- To verify our conclusions about occasions, we could look at date fields around holidays and if we had more data about birthdays we could relate the review data to a birthday.\n",
    "- Sometimes people write things like \"80 month old\" which is kindof outrageous \n",
    "- It could be helpful to do paired analysis, i.e. what occasions AND ages are commonly reviewed together as well as how they complement each other"
   ]
  },
  {
   "cell_type": "code",
   "execution_count": null,
   "metadata": {},
   "outputs": [],
   "source": []
  }
 ],
 "metadata": {
  "kernelspec": {
   "display_name": "Python 3",
   "language": "python",
   "name": "python3"
  },
  "language_info": {
   "codemirror_mode": {
    "name": "ipython",
    "version": 3
   },
   "file_extension": ".py",
   "mimetype": "text/x-python",
   "name": "python",
   "nbconvert_exporter": "python",
   "pygments_lexer": "ipython3",
   "version": "3.8.3"
  },
  "varInspector": {
   "cols": {
    "lenName": 16,
    "lenType": 16,
    "lenVar": 40
   },
   "kernels_config": {
    "python": {
     "delete_cmd_postfix": "",
     "delete_cmd_prefix": "del ",
     "library": "var_list.py",
     "varRefreshCmd": "print(var_dic_list())"
    },
    "r": {
     "delete_cmd_postfix": ") ",
     "delete_cmd_prefix": "rm(",
     "library": "var_list.r",
     "varRefreshCmd": "cat(var_dic_list()) "
    }
   },
   "types_to_exclude": [
    "module",
    "function",
    "builtin_function_or_method",
    "instance",
    "_Feature"
   ],
   "window_display": false
  }
 },
 "nbformat": 4,
 "nbformat_minor": 4
}
